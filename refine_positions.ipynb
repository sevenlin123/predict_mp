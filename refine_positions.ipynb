{
 "cells": [
  {
   "cell_type": "code",
   "execution_count": 1,
   "metadata": {},
   "outputs": [],
   "source": [
    "import pandas as pd\n",
    "import numpy as np\n",
    "from propagate import propagate\n",
    "import rebound\n",
    "from skyfield.api import Topos, Loader\n",
    "from scipy.optimize import newton"
   ]
  },
  {
   "cell_type": "code",
   "execution_count": 2,
   "metadata": {},
   "outputs": [
    {
     "name": "stderr",
     "output_type": "stream",
     "text": [
      "/Users/hsingwel/anaconda3/lib/python3.6/site-packages/IPython/core/interactiveshell.py:2785: DtypeWarning: Columns (7) have mixed types. Specify dtype option on import or set low_memory=False.\n",
      "  interactivity=interactivity, compiler=compiler, result=result)\n"
     ]
    }
   ],
   "source": [
    "#Load JPL ephemeris\n",
    "load = Loader('./Skyfield-Data', expire=False)\n",
    "planets = load('de423.bsp')\n",
    "#Load minor planets orbits\n",
    "orbits = pd.read_csv('MPCORB.csv')"
   ]
  },
  {
   "cell_type": "code",
   "execution_count": 3,
   "metadata": {},
   "outputs": [],
   "source": [
    "#Use Cerers (as the represented of main-belt Asteroids) and Phaethon (near-Earth Asteroid) for testing\n",
    "match_mps = [1, 3200]\n",
    "objects = orbits[orbits.name.isin(match_mps)]"
   ]
  },
  {
   "cell_type": "code",
   "execution_count": 4,
   "metadata": {},
   "outputs": [
    {
     "data": {
      "text/html": [
       "<div>\n",
       "<style scoped>\n",
       "    .dataframe tbody tr th:only-of-type {\n",
       "        vertical-align: middle;\n",
       "    }\n",
       "\n",
       "    .dataframe tbody tr th {\n",
       "        vertical-align: top;\n",
       "    }\n",
       "\n",
       "    .dataframe thead th {\n",
       "        text-align: right;\n",
       "    }\n",
       "</style>\n",
       "<table border=\"1\" class=\"dataframe\">\n",
       "  <thead>\n",
       "    <tr style=\"text-align: right;\">\n",
       "      <th></th>\n",
       "      <th>H</th>\n",
       "      <th>M</th>\n",
       "      <th>W</th>\n",
       "      <th>a</th>\n",
       "      <th>e</th>\n",
       "      <th>epoch</th>\n",
       "      <th>i</th>\n",
       "      <th>name</th>\n",
       "      <th>w</th>\n",
       "    </tr>\n",
       "  </thead>\n",
       "  <tbody>\n",
       "    <tr>\n",
       "      <th>0</th>\n",
       "      <td>3.3</td>\n",
       "      <td>1.350399</td>\n",
       "      <td>1.401596</td>\n",
       "      <td>2.769165</td>\n",
       "      <td>0.076009</td>\n",
       "      <td>2458600.5</td>\n",
       "      <td>0.184901</td>\n",
       "      <td>1</td>\n",
       "      <td>1.284521</td>\n",
       "    </tr>\n",
       "    <tr>\n",
       "      <th>3199</th>\n",
       "      <td>14.6</td>\n",
       "      <td>5.479269</td>\n",
       "      <td>4.628896</td>\n",
       "      <td>1.271373</td>\n",
       "      <td>0.889898</td>\n",
       "      <td>2458600.5</td>\n",
       "      <td>0.388516</td>\n",
       "      <td>3200</td>\n",
       "      <td>5.623198</td>\n",
       "    </tr>\n",
       "  </tbody>\n",
       "</table>\n",
       "</div>"
      ],
      "text/plain": [
       "         H         M         W         a         e      epoch         i  name  \\\n",
       "0      3.3  1.350399  1.401596  2.769165  0.076009  2458600.5  0.184901     1   \n",
       "3199  14.6  5.479269  4.628896  1.271373  0.889898  2458600.5  0.388516  3200   \n",
       "\n",
       "             w  \n",
       "0     1.284521  \n",
       "3199  5.623198  "
      ]
     },
     "execution_count": 4,
     "metadata": {},
     "output_type": "execute_result"
    }
   ],
   "source": [
    "#make sure we get the right objects\n",
    "objects"
   ]
  },
  {
   "cell_type": "code",
   "execution_count": 5,
   "metadata": {},
   "outputs": [],
   "source": [
    "#Calcuate their barycentric Cartesian state vectors\n",
    "p = propagate(np.array(objects.a), np.array(objects.e), np.array(objects.i), np.array(objects.w), \n",
    "              np.array(objects.W), np.array(objects.M), np.array(objects.epoch), np.array(objects.epoch), helio=True)"
   ]
  },
  {
   "cell_type": "code",
   "execution_count": 6,
   "metadata": {},
   "outputs": [
    {
     "name": "stdout",
     "output_type": "stream",
     "text": [
      "[-1.35826654  0.41601615] [-2.36506867  1.34153003] [0.17534347 0.12481611] [ 0.00845672 -0.00917263] [-0.00587557 -0.00966178] [-0.00174554 -0.00340801]\n"
     ]
    }
   ],
   "source": [
    "#check the positions\n",
    "print(p.X, p.Y, p.Z, p.VX, p.VY, p.VZ)"
   ]
  },
  {
   "cell_type": "code",
   "execution_count": 7,
   "metadata": {},
   "outputs": [],
   "source": [
    "#prepare for n_body simulation, here we use 'rebound' integrator \n",
    "sim = rebound.Simulation()\n",
    "sim.units = ('day', 'AU', 'Msun')\n",
    "sim.integrator = \"IAS15\"#\"mercurius\""
   ]
  },
  {
   "cell_type": "raw",
   "metadata": {},
   "source": [
    "we have to make sure every test particals in the same reference plane\n",
    "Here we take ecliptic."
   ]
  },
  {
   "cell_type": "code",
   "execution_count": 8,
   "metadata": {},
   "outputs": [],
   "source": [
    " def equa_to_ecl(X0,Y0,Z0):\n",
    "    epsilon =  23.43929111 * np.pi/180.\n",
    "    X = X0\n",
    "    Y = Y0 * np.cos(epsilon) + Z0 * np.sin(epsilon)\n",
    "    Z = -Y0 * np.sin(epsilon) + Z0 * np.cos(epsilon)\n",
    "    return X, Y, Z"
   ]
  },
  {
   "cell_type": "raw",
   "metadata": {},
   "source": [
    "'skyfield' return planets position in 'equatorial', we have to use equa_to_ecl (define above) to transfer planetary positions.\n",
    "Also, make sure that the planets and minor planets have positions at the same epoch.\n",
    "'Rebound' can also request planetary positions. However, it can not assign the specific epoch and not useful in this case."
   ]
  },
  {
   "cell_type": "code",
   "execution_count": 9,
   "metadata": {},
   "outputs": [],
   "source": [
    "#here we load the Sun and planetary positions\n",
    "epoch0 = float(objects.epoch[0])\n",
    "ts = load.timescale()\n",
    "t = ts.tdb(jd=epoch0)\n",
    "Sun = planets['Sun']\n",
    "Mercury = planets[1]\n",
    "Venus = planets[2]\n",
    "Earth = planets[3]\n",
    "Mars = planets[4]\n",
    "Jupiter = planets[5]\n",
    "Saturn = planets[6]\n",
    "Uranus = planets[7]\n",
    "Neptune = planets[8]\n",
    "Sun_x, Sun_y, Sun_z = Sun.at(t).position.au\n",
    "Sun_vx, Sun_vy, Sun_vz = Sun.at(t).velocity.au_per_d\n",
    "Sun_x, Sun_y, Sun_z = equa_to_ecl(Sun_x, Sun_y, Sun_z)\n",
    "Sun_vx, Sun_vy, Sun_vz = equa_to_ecl(Sun_vx, Sun_vy, Sun_vz)\n",
    "Sun_mass = 1\n",
    "\n",
    "Mercury_x, Mercury_y, Mercury_z = Mercury.at(t).position.au\n",
    "Mercury_vx, Mercury_vy, Mercury_vz = Mercury.at(t).velocity.au_per_d\n",
    "Mercury_x, Mercury_y, Mercury_z = equa_to_ecl(Mercury_x, Mercury_y, Mercury_z)\n",
    "Mercury_vx, Mercury_vy, Mercury_vz = equa_to_ecl(Mercury_vx, Mercury_vy, Mercury_vz)\n",
    "Mercury_mass = 1.6601367952719304E-07\n",
    "\n",
    "Venus_x, Venus_y, Venus_z = Venus.at(t).position.au\n",
    "Venus_vx, Venus_vy, Venus_vz = Venus.at(t).velocity.au_per_d\n",
    "Venus_x, Venus_y, Venus_z = equa_to_ecl(Venus_x, Venus_y, Venus_z)\n",
    "Venus_vx, Venus_vy, Venus_vz = equa_to_ecl(Venus_vx, Venus_vy, Venus_vz)\n",
    "Venus_mass = 2.4478383396645447E-06\n",
    "\n",
    "Earth_x, Earth_y, Earth_z = Earth.at(t).position.au\n",
    "Earth_vx, Earth_vy, Earth_vz = Earth.at(t).velocity.au_per_d\n",
    "Earth_x, Earth_y, Earth_z = equa_to_ecl(Earth_x, Earth_y, Earth_z)\n",
    "Earth_vx, Earth_vy, Earth_vz = equa_to_ecl(Earth_vx, Earth_vy, Earth_vz)\n",
    "Earth_mass = 3.0404326462685257E-06\n",
    "\n",
    "Mars_x, Mars_y, Mars_z = Mars.at(t).position.au\n",
    "Mars_vx, Mars_vy, Mars_vz = Mars.at(t).velocity.au_per_d\n",
    "Mars_x, Mars_y, Mars_z = equa_to_ecl(Mars_x, Mars_y, Mars_z)\n",
    "Mars_vx, Mars_vy, Mars_vz = equa_to_ecl(Mars_vx, Mars_vy, Mars_vz)\n",
    "Mars_mass = 3.2271514450538743E-07\n",
    "\n",
    "Jupiter_x, Jupiter_y, Jupiter_z = Jupiter.at(t).position.au\n",
    "Jupiter_vx, Jupiter_vy, Jupiter_vz = Jupiter.at(t).velocity.au_per_d\n",
    "Jupiter_x, Jupiter_y, Jupiter_z = equa_to_ecl(Jupiter_x, Jupiter_y, Jupiter_z)\n",
    "Jupiter_vx, Jupiter_vy, Jupiter_vz = equa_to_ecl(Jupiter_vx, Jupiter_vy, Jupiter_vz)\n",
    "Jupiter_mass = 9.547919384243222E-04\n",
    "\n",
    "Saturn_x, Saturn_y, Saturn_z = Saturn.at(t).position.au\n",
    "Saturn_vx, Saturn_vy, Saturn_vz = Saturn.at(t).velocity.au_per_d\n",
    "Saturn_x, Saturn_y, Saturn_z = equa_to_ecl(Saturn_x, Saturn_y, Saturn_z)\n",
    "Saturn_vx, Saturn_vy, Saturn_vz = equa_to_ecl(Saturn_vx, Saturn_vy, Saturn_vz)\n",
    "Saturn_mass = 2.858859806661029E-04\n",
    "\n",
    "Uranus_x, Uranus_y, Uranus_z = Uranus.at(t).position.au\n",
    "Uranus_vx, Uranus_vy, Uranus_vz = Uranus.at(t).velocity.au_per_d\n",
    "Uranus_x, Uranus_y, Uranus_z = equa_to_ecl(Uranus_x, Uranus_y, Uranus_z)\n",
    "Uranus_vx, Uranus_vy, Uranus_vz = equa_to_ecl(Uranus_vx, Uranus_vy, Uranus_vz)\n",
    "Uranus_mass = 4.3662440433515637E-05\n",
    "\n",
    "Neptune_x, Neptune_y, Neptune_z = Neptune.at(t).position.au\n",
    "Neptune_vx, Neptune_vy, Neptune_vz = Neptune.at(t).velocity.au_per_d\n",
    "Neptune_x, Neptune_y, Neptune_z = equa_to_ecl(Neptune_x, Neptune_y, Neptune_z)\n",
    "Neptune_vx, Neptune_vy, Neptune_vz = equa_to_ecl(Neptune_vx, Neptune_vy, Neptune_vz)\n",
    "Neptune_mass = 5.151389020535497E-05"
   ]
  },
  {
   "cell_type": "code",
   "execution_count": 10,
   "metadata": {},
   "outputs": [],
   "source": [
    "#Add them into simulation\n",
    "sim.add(m=Sun_mass, x=Sun_x, y=Sun_y, z=Sun_z, vx=Sun_vx, vy=Sun_vy, vz=Sun_vz)\n",
    "sim.add(m=Mercury_mass, x=Mercury_x, y=Mercury_y, z=Mercury_z, vx=Mercury_vx, vy=Mercury_vy, vz=Mercury_vz)\n",
    "sim.add(m=Venus_mass, x=Venus_x, y=Venus_y, z=Venus_z, vx=Venus_vx, vy=Venus_vy, vz=Venus_vz)\n",
    "sim.add(m=Earth_mass, x=Earth_x, y=Earth_y, z=Earth_z, vx=Earth_vx, vy=Earth_vy, vz=Earth_vz)\n",
    "sim.add(m=Mars_mass, x=Mars_x, y=Mars_y, z=Mars_z, vx=Mars_vx, vy=Mars_vy, vz=Mars_vz)\n",
    "sim.add(m=Jupiter_mass, x=Jupiter_x, y=Jupiter_y, z=Jupiter_z, vx=Jupiter_vx, vy=Jupiter_vy, vz=Jupiter_vz)\n",
    "sim.add(m=Saturn_mass, x=Saturn_x, y=Saturn_y, z=Saturn_z, vx=Saturn_vx, vy=Saturn_vy, vz=Saturn_vz)\n",
    "sim.add(m=Uranus_mass, x=Uranus_x, y=Uranus_y, z=Uranus_z, vx=Uranus_vx, vy=Uranus_vy, vz=Uranus_vz)\n",
    "sim.add(m=Neptune_mass, x=Neptune_x, y=Neptune_y, z=Neptune_z, vx=Neptune_vx, vy=Neptune_vy, vz=Neptune_vz)"
   ]
  },
  {
   "cell_type": "code",
   "execution_count": 11,
   "metadata": {},
   "outputs": [],
   "source": [
    "#Add minor palnets into sumulation\n",
    "for i in range(len(p.X)):\n",
    "    X, Y, Z = p.X[i],p.Y[i], p.Z[i]\n",
    "    VX, VY, VZ = p.VX[i],p.VY[i], p.VZ[i]\n",
    "    sim.add(m=0, x=X, y=Y, z=Z, vx=VX, vy=VY, vz=VZ)"
   ]
  },
  {
   "cell_type": "code",
   "execution_count": 12,
   "metadata": {},
   "outputs": [
    {
     "name": "stdout",
     "output_type": "stream",
     "text": [
      "---------------------------------\n",
      "REBOUND version:     \t3.6.2\n",
      "REBOUND built on:    \tJun  7 2018 14:27:59\n",
      "Number of particles: \t11\n",
      "Selected integrator: \tias15\n",
      "Simulation time:     \t0.0000000000000000e+00\n",
      "Current timestep:    \t0.001000\n",
      "---------------------------------\n",
      "<rebound.Particle object, m=1.0 x=-0.0016997040830256903 y=0.007591942332089701 z=-3.294690197843059e-05 vx=-8.347175743351958e-06 vy=7.503819207352465e-07 vz=2.164050466367272e-07>\n",
      "<rebound.Particle object, m=1.6601367952719304e-07 x=0.2490276285473541 y=-0.3367327496768238 z=-0.051169932867923804 vx=0.017127924764256945 vy=0.01792987746920543 vz=-0.00010675872004990532>\n",
      "<rebound.Particle object, m=2.4478383396645447e-06 x=0.5980231225085578 y=-0.4032277742846196 z=-0.04027844023235563 vx=0.011298421958249658 vy=0.01660693268110823 vz=-0.00042441132947431716>\n",
      "<rebound.Particle object, m=3.0404326462685257e-06 x=-0.8137654121208079 y=-0.5867872155528668 z=-3.657956725799938e-06 vx=0.009872927928323776 vy=-0.01394701717598006 vz=8.232629378204445e-07>\n",
      "<rebound.Particle object, m=3.2271514450538743e-07 x=-0.32836463948182903 y=1.5706237072958413 z=0.040733314804235365 vx=-0.013177346977306097 vy=-0.0016727800462705501 vz=0.00028827333272239876>\n",
      "<rebound.Particle object, m=0.0009547919384243222 x=-1.318704941273453 y=-5.140506020381505 z=0.050817480509018464 vx=0.007218374515816784 vy=-0.0015151312942521572 vz=-0.00015518531257370234>\n",
      "<rebound.Particle object, m=0.0002858859806661029 x=2.5536513479522833 y=-9.716382227821379 z=0.06729096036561577 vx=0.005087783051070246 vy=0.0014007485337386753 vz=-0.00022689502120432444>\n",
      "<rebound.Particle object, m=4.3662440433515637e-05 x=16.772215315764665 y=10.617430440784323 z=-0.177857646214163 vx=-0.0021325861443378543 vy=0.003139887133952895 vz=3.928947462000375e-05>\n",
      "<rebound.Particle object, m=5.151389020535497e-05 x=29.068082015236936 y=-7.125923414485666 z=-0.5231590835456457 vx=0.0007265632061234742 vy=0.003067514584020748 vz=-7.991381647084279e-05>\n",
      "<rebound.Particle object, m=0.0 x=-1.3582665392950144 y=-2.3650686706239186 z=0.17534346913450852 vx=0.008456716714812625 vy=-0.00587556826674499 vz=-0.0017455417333820705>\n",
      "<rebound.Particle object, m=0.0 x=0.4160161505120109 y=1.3415300267723378 z=0.124816114459809 vx=-0.009172630412630157 vy=-0.00966178086196156 vz=-0.0034080086165731395>\n",
      "---------------------------------\n"
     ]
    }
   ],
   "source": [
    "#Check the simulation status before intergation start\n",
    "sim.status()"
   ]
  },
  {
   "cell_type": "code",
   "execution_count": 13,
   "metadata": {},
   "outputs": [],
   "source": [
    "#Let's start the intergation, here we intergate to 3000 days before the current epoch\n",
    "sim.integrate(-3000, exact_finish_time=1) "
   ]
  },
  {
   "cell_type": "code",
   "execution_count": 14,
   "metadata": {},
   "outputs": [
    {
     "name": "stdout",
     "output_type": "stream",
     "text": [
      "---------------------------------\n",
      "REBOUND version:     \t3.6.2\n",
      "REBOUND built on:    \tJun  7 2018 14:27:59\n",
      "Number of particles: \t11\n",
      "Selected integrator: \tias15\n",
      "Simulation time:     \t-3.0000000000000000e+03\n",
      "Current timestep:    \t-1.663035\n",
      "---------------------------------\n",
      "<rebound.Particle object, m=1.0 x=-0.0041362149015444155 y=0.00047756304908454363 z=1.564283191402366e-05 vx=1.1507755023897295e-06 vy=-6.071880038712498e-06 vz=-1.347542593637939e-08>\n",
      "<rebound.Particle object, m=1.6601367952719304e-07 x=0.0637799783063576 y=-0.45100370231777404 z=-0.043104267701962254 vx=0.022180239852419386 vy=0.005623501795565629 vz=-0.0015751171311462135>\n",
      "<rebound.Particle object, m=2.4478383396645447e-06 x=-0.6805228794541119 y=-0.24813877936446785 z=0.035645846856020645 vx=0.006843031541450925 vy=-0.019082700632164846 vz=-0.0006562233848094066>\n",
      "<rebound.Particle object, m=3.0404326462685257e-06 x=-0.74521355163232 y=0.6513719009116126 z=-3.6939646613148885e-08 vx=-0.011632002516959028 vy=-0.012997746106765982 vz=3.6742885695300946e-07>\n",
      "<rebound.Particle object, m=3.2271514450538743e-07 x=1.017500923098214 y=-0.9375159521553202 z=-0.04472597816844574 vx=0.009995268724015457 vy=0.011500177092700672 vz=-4.316206691511866e-06>\n",
      "<rebound.Particle object, m=0.0009547919384243222 x=4.852227840031688 y=0.9458589205545972 z=-0.11258617974524222 vx=-0.0015346884236987315 vy=0.007766613875290062 vz=2.0784181177804158e-06>\n",
      "<rebound.Particle object, m=0.0002858859806661029 x=-9.385768951609082 y=-1.977157172388819 z=0.40788719854761807 vx=0.0008502749717591856 vy=-0.0054710681642860855 vz=6.133032874735288e-05>\n",
      "<rebound.Particle object, m=4.3662440433515637e-05 x=20.082482537295267 y=-0.020223252502099828 z=-0.26026059735533297 vx=-2.4781771995829278e-05 vy=0.003749705099569465 vz=1.4254640496086845e-05>\n",
      "<rebound.Particle object, m=5.151389020535497e-05 x=25.494735823011645 y=-15.826781589450192 z=-0.261628980973745 vx=0.0016348311673053668 vy=0.0026855706880389773 vz=-9.298135102101664e-05>\n",
      "<rebound.Particle object, m=0.0 x=1.965629732383529 y=-2.177530089623826 z=-0.43092173152954766 vx=0.007163213020892771 vy=0.006305543013041826 vz=-0.0011229520490193452>\n",
      "<rebound.Particle object, m=0.0 x=1.250434238114174 y=0.6362263493727803 z=0.4891278980017994 vx=0.0072956703531304535 vy=0.01021857951183199 vz=0.002629518921504002>\n",
      "---------------------------------\n"
     ]
    }
   ],
   "source": [
    "#Check the status after intergation\n",
    "sim.status()"
   ]
  },
  {
   "cell_type": "code",
   "execution_count": 15,
   "metadata": {},
   "outputs": [],
   "source": [
    "#now the postions of Planets and minor planets are changed to 3000 days before\n",
    "#take the postions of our asteroids\n",
    "ceres= sim.particles[-2]\n",
    "Phaethon = sim.particles[-1]"
   ]
  },
  {
   "cell_type": "code",
   "execution_count": 16,
   "metadata": {},
   "outputs": [],
   "source": [
    "#to calculate the current orbital elements we define a function to transfer state vector to keplerian orbit\n",
    "def xyz_to_kep(X, Y, Z, VX, VY, VZ, u):\n",
    "    # compute the barycentric distance r\n",
    "    r = (X**2 + Y**2 + Z**2)**0.5\n",
    "    rrdot = (X*VX + Y*VY + Z*VZ)\n",
    "    # compute the specific angular momentum h\n",
    "    hx = Y * VZ - Z * VY\n",
    "    hy = Z * VX - X * VZ\n",
    "    hz = X * VY - Y * VX\n",
    "    h = (hx**2 + hy**2 + hz**2)**0.5\n",
    "    # compute eccentricity vector\n",
    "    ex = (VY * hz - VZ * hy)/u - X/r\n",
    "    ey = (VZ * hx - VX * hz)/u - Y/r\n",
    "    ez = (VX * hy - VY * hx)/u - Z/r\n",
    "    e = (ex**2+ey**2+ez**2)**0.5\n",
    "    # compute vector n\n",
    "    nx = -hy\n",
    "    ny = hx\n",
    "    nz = 0\n",
    "    n = (nx**2 + ny**2)**0.5\n",
    "    # compute true anomaly v, the angle between e and r\n",
    "    v = np.arccos((ex * X + ey * Y + ez * Z) / (e*r))\n",
    "    v[rrdot<0] = 2*np.pi - v[rrdot<0]\n",
    "    # compute inclination\n",
    "    i = np.arccos(hz/h)\n",
    "    # compute eccentric anomaly E\n",
    "    E = 2*np.arctan2((1-e)**0.5*np.sin(v/2.), (1+e)**0.5*np.cos(v/2.))\n",
    "    # compute ascending node\n",
    "    node = np.arccos(nx/n)\n",
    "    node[ny<0] = 2*np.pi - node[ny<0]\n",
    "    # compute argument of periapsis, the angle between e and n\n",
    "    arg = np.arccos((nx * ex + ny * ey + nz *ez) / (n*e))\n",
    "    arg[ez<0] = 2*np.pi - arg[ez<0]\n",
    "    # compute mean anomaly\n",
    "    M = E - e * np.sin(E)\n",
    "    M[M<0] += 2*np.pi\n",
    "    # compute a\n",
    "    a = 1/(2/r - (VX**2+VY**2+VZ**2)/u)\n",
    "    return a, e, i, arg, node, M   "
   ]
  },
  {
   "cell_type": "code",
   "execution_count": 17,
   "metadata": {},
   "outputs": [],
   "source": [
    "u_bary = 2.9630927492415936E-04 # standard gravitational parameter, GM. M is the mass of sun + all planets \n",
    "x, y, z = np.array([ceres.x]), np.array([ceres.y]), np.array([ceres.z])\n",
    "vx, vy, vz = np.array([ceres.vx]), np.array([ceres.vy]), np.array([ceres.vz])\n",
    "a, e, i, arg, node, M = xyz_to_kep(x, y, z, vx, vy, vz, u_bary)"
   ]
  },
  {
   "cell_type": "code",
   "execution_count": 18,
   "metadata": {},
   "outputs": [
    {
     "name": "stdout",
     "output_type": "stream",
     "text": [
      "[318.1933104] [-22.69225459] 2455600.5\n"
     ]
    }
   ],
   "source": [
    "#now calcuate the observer quantities ra and dec\n",
    "p = propagate(a, e, i, arg, node, M, epoch0-3000, epoch0-3000, helio = False)\n",
    "print(p.ra*180/np.pi, p.dec*180/np.pi, epoch0-3000)"
   ]
  },
  {
   "cell_type": "code",
   "execution_count": 19,
   "metadata": {},
   "outputs": [],
   "source": [
    "#Do it again for Phaethon\n",
    "x, y, z = np.array([Phaethon.x]), np.array([Phaethon.y]), np.array([Phaethon.z])\n",
    "vx, vy, vz = np.array([Phaethon.vx]), np.array([Phaethon.vy]), np.array([Phaethon.vz])\n",
    "a, e, i, arg, node, M = xyz_to_kep(x, y, z, vx, vy, vz, u_bary)"
   ]
  },
  {
   "cell_type": "code",
   "execution_count": 20,
   "metadata": {},
   "outputs": [
    {
     "name": "stdout",
     "output_type": "stream",
     "text": [
      "[354.03307187] [12.44211394] 2455600.5\n"
     ]
    }
   ],
   "source": [
    "p = propagate(a, e, i, arg, node, M, epoch0-3000, epoch0-3000, helio = False)\n",
    "print(p.ra*180/np.pi, p.dec*180/np.pi, epoch0-3000)"
   ]
  },
  {
   "cell_type": "code",
   "execution_count": null,
   "metadata": {},
   "outputs": [],
   "source": []
  }
 ],
 "metadata": {
  "kernelspec": {
   "display_name": "Python 3",
   "language": "python",
   "name": "python3"
  },
  "language_info": {
   "codemirror_mode": {
    "name": "ipython",
    "version": 3
   },
   "file_extension": ".py",
   "mimetype": "text/x-python",
   "name": "python",
   "nbconvert_exporter": "python",
   "pygments_lexer": "ipython3",
   "version": "3.6.6"
  }
 },
 "nbformat": 4,
 "nbformat_minor": 2
}
