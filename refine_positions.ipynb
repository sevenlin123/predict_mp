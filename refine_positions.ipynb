{
 "cells": [
  {
   "cell_type": "code",
   "execution_count": 1,
   "metadata": {},
   "outputs": [],
   "source": [
    "import pandas as pd\n",
    "import numpy as np\n",
    "from propagate import propagate\n",
    "import rebound\n",
    "from skyfield.api import Topos, Loader\n",
    "from scipy.optimize import newton"
   ]
  },
  {
   "cell_type": "code",
   "execution_count": 2,
   "metadata": {},
   "outputs": [
    {
     "name": "stderr",
     "output_type": "stream",
     "text": [
      "/Users/hsingwel/anaconda3/lib/python3.6/site-packages/IPython/core/interactiveshell.py:2785: DtypeWarning: Columns (7) have mixed types. Specify dtype option on import or set low_memory=False.\n",
      "  interactivity=interactivity, compiler=compiler, result=result)\n"
     ]
    }
   ],
   "source": [
    "#Load JPL ephemeris\n",
    "load = Loader('./Skyfield-Data', expire=False)\n",
    "planets = load('de423.bsp')\n",
    "#Load minor planets orbits\n",
    "orbits = pd.read_csv('MPCORB.csv')"
   ]
  },
  {
   "cell_type": "code",
   "execution_count": 3,
   "metadata": {},
   "outputs": [],
   "source": [
    "#Use Cerers (as the represented of main-belt Asteroids) and Phaethon (near-Earth Asteroid) for testing\n",
    "match_mps = [1, 3200, 4]\n",
    "#print(orbits.name.isin(match_mps))\n",
    "objects = orbits[orbits.name.isin(match_mps)]"
   ]
  },
  {
   "cell_type": "code",
   "execution_count": 4,
   "metadata": {},
   "outputs": [
    {
     "data": {
      "text/html": [
       "<div>\n",
       "<style scoped>\n",
       "    .dataframe tbody tr th:only-of-type {\n",
       "        vertical-align: middle;\n",
       "    }\n",
       "\n",
       "    .dataframe tbody tr th {\n",
       "        vertical-align: top;\n",
       "    }\n",
       "\n",
       "    .dataframe thead th {\n",
       "        text-align: right;\n",
       "    }\n",
       "</style>\n",
       "<table border=\"1\" class=\"dataframe\">\n",
       "  <thead>\n",
       "    <tr style=\"text-align: right;\">\n",
       "      <th></th>\n",
       "      <th>H</th>\n",
       "      <th>M</th>\n",
       "      <th>W</th>\n",
       "      <th>a</th>\n",
       "      <th>e</th>\n",
       "      <th>epoch</th>\n",
       "      <th>i</th>\n",
       "      <th>name</th>\n",
       "      <th>w</th>\n",
       "    </tr>\n",
       "  </thead>\n",
       "  <tbody>\n",
       "    <tr>\n",
       "      <th>0</th>\n",
       "      <td>3.3</td>\n",
       "      <td>1.350399</td>\n",
       "      <td>1.401596</td>\n",
       "      <td>2.769165</td>\n",
       "      <td>0.076009</td>\n",
       "      <td>2458600.5</td>\n",
       "      <td>0.184901</td>\n",
       "      <td>1</td>\n",
       "      <td>1.284521</td>\n",
       "    </tr>\n",
       "    <tr>\n",
       "      <th>3</th>\n",
       "      <td>3.2</td>\n",
       "      <td>1.673108</td>\n",
       "      <td>1.811841</td>\n",
       "      <td>2.361418</td>\n",
       "      <td>0.088721</td>\n",
       "      <td>2458600.5</td>\n",
       "      <td>0.124647</td>\n",
       "      <td>4</td>\n",
       "      <td>2.630707</td>\n",
       "    </tr>\n",
       "    <tr>\n",
       "      <th>3199</th>\n",
       "      <td>14.6</td>\n",
       "      <td>5.479269</td>\n",
       "      <td>4.628896</td>\n",
       "      <td>1.271373</td>\n",
       "      <td>0.889898</td>\n",
       "      <td>2458600.5</td>\n",
       "      <td>0.388516</td>\n",
       "      <td>3200</td>\n",
       "      <td>5.623198</td>\n",
       "    </tr>\n",
       "  </tbody>\n",
       "</table>\n",
       "</div>"
      ],
      "text/plain": [
       "         H         M         W         a         e      epoch         i  name  \\\n",
       "0      3.3  1.350399  1.401596  2.769165  0.076009  2458600.5  0.184901     1   \n",
       "3      3.2  1.673108  1.811841  2.361418  0.088721  2458600.5  0.124647     4   \n",
       "3199  14.6  5.479269  4.628896  1.271373  0.889898  2458600.5  0.388516  3200   \n",
       "\n",
       "             w  \n",
       "0     1.284521  \n",
       "3     2.630707  \n",
       "3199  5.623198  "
      ]
     },
     "execution_count": 4,
     "metadata": {},
     "output_type": "execute_result"
    }
   ],
   "source": [
    "#make sure we get the right objects\n",
    "objects"
   ]
  },
  {
   "cell_type": "code",
   "execution_count": 5,
   "metadata": {},
   "outputs": [],
   "source": [
    "#Calcuate their barycentric Cartesian state vectors\n",
    "p = propagate(np.array(objects.a), np.array(objects.e), np.array(objects.i), np.array(objects.w), \n",
    "              np.array(objects.W), np.array(objects.M), np.array(objects.epoch), np.array(objects.epoch), helio=True)"
   ]
  },
  {
   "cell_type": "code",
   "execution_count": 6,
   "metadata": {},
   "outputs": [
    {
     "name": "stdout",
     "output_type": "stream",
     "text": [
      "[-1.35826653  2.38153475  0.41601616] [-2.36506867  0.01798981  1.34153003] [ 0.17534347 -0.29032291  0.12481611] [ 0.00845672  0.0008575  -0.00917263] [-0.00587557  0.01096685 -0.00966178] [-0.00174554 -0.00043314 -0.00340801]\n"
     ]
    }
   ],
   "source": [
    "#check the positions\n",
    "print(p.X, p.Y, p.Z, p.VX, p.VY, p.VZ)"
   ]
  },
  {
   "cell_type": "code",
   "execution_count": 7,
   "metadata": {},
   "outputs": [],
   "source": [
    "#prepare for n_body simulation, here we use 'rebound' integrator \n",
    "sim = rebound.Simulation()\n",
    "sim.units = ('day', 'AU', 'Msun')\n",
    "sim.integrator = \"IAS15\"#\"mercurius\""
   ]
  },
  {
   "cell_type": "raw",
   "metadata": {},
   "source": [
    "we have to make sure every test particals in the same reference plane\n",
    "Here we take ecliptic."
   ]
  },
  {
   "cell_type": "code",
   "execution_count": 8,
   "metadata": {},
   "outputs": [],
   "source": [
    "def equa_to_ecl(X0,Y0,Z0):\n",
    "    epsilon =  23.43929111 * np.pi/180.\n",
    "    X = X0\n",
    "    Y = Y0 * np.cos(epsilon) + Z0 * np.sin(epsilon)\n",
    "    Z = -Y0 * np.sin(epsilon) + Z0 * np.cos(epsilon)\n",
    "    return X, Y, Z"
   ]
  },
  {
   "cell_type": "raw",
   "metadata": {},
   "source": [
    "'skyfield' return planets position in 'equatorial', we have to use equa_to_ecl (define above) to transfer planetary positions.\n",
    "Also, make sure that the planets and minor planets have positions at the same epoch.\n",
    "'Rebound' can also request planetary positions. However, it can not assign the specific epoch and not useful in this case."
   ]
  },
  {
   "cell_type": "code",
   "execution_count": 9,
   "metadata": {},
   "outputs": [],
   "source": [
    "#here we load the Sun and planetary positions\n",
    "epoch0 = float(objects.epoch[0])\n",
    "ts = load.timescale()\n",
    "#t = ts.tai(jd=epoch0+0.000428)\n",
    "t = ts.tt(jd=epoch0)\n",
    "Sun = planets['Sun']\n",
    "Mercury = planets[1]\n",
    "Venus = planets[2]\n",
    "Earth = planets[3]\n",
    "Mars = planets[4]\n",
    "Jupiter = planets[5]\n",
    "Saturn = planets[6]\n",
    "Uranus = planets[7]\n",
    "Neptune = planets[8]\n",
    "Sun_x, Sun_y, Sun_z = Sun.at(t).position.au\n",
    "Sun_vx, Sun_vy, Sun_vz = Sun.at(t).velocity.au_per_d\n",
    "Sun_x, Sun_y, Sun_z = equa_to_ecl(Sun_x, Sun_y, Sun_z)\n",
    "Sun_vx, Sun_vy, Sun_vz = equa_to_ecl(Sun_vx, Sun_vy, Sun_vz)\n",
    "Sun_mass = 1\n",
    "\n",
    "Mercury_x, Mercury_y, Mercury_z = Mercury.at(t).position.au\n",
    "Mercury_vx, Mercury_vy, Mercury_vz = Mercury.at(t).velocity.au_per_d\n",
    "Mercury_x, Mercury_y, Mercury_z = equa_to_ecl(Mercury_x, Mercury_y, Mercury_z)\n",
    "Mercury_vx, Mercury_vy, Mercury_vz = equa_to_ecl(Mercury_vx, Mercury_vy, Mercury_vz)\n",
    "Mercury_mass = 1.6601367952719304E-07\n",
    "\n",
    "Venus_x, Venus_y, Venus_z = Venus.at(t).position.au\n",
    "Venus_vx, Venus_vy, Venus_vz = Venus.at(t).velocity.au_per_d\n",
    "Venus_x, Venus_y, Venus_z = equa_to_ecl(Venus_x, Venus_y, Venus_z)\n",
    "Venus_vx, Venus_vy, Venus_vz = equa_to_ecl(Venus_vx, Venus_vy, Venus_vz)\n",
    "Venus_mass = 2.4478383396645447E-06\n",
    "\n",
    "Earth_x, Earth_y, Earth_z = Earth.at(t).position.au\n",
    "Earth_vx, Earth_vy, Earth_vz = Earth.at(t).velocity.au_per_d\n",
    "Earth_x, Earth_y, Earth_z = equa_to_ecl(Earth_x, Earth_y, Earth_z)\n",
    "Earth_vx, Earth_vy, Earth_vz = equa_to_ecl(Earth_vx, Earth_vy, Earth_vz)\n",
    "Earth_mass = 3.0404326462685257E-06\n",
    "\n",
    "Mars_x, Mars_y, Mars_z = Mars.at(t).position.au\n",
    "Mars_vx, Mars_vy, Mars_vz = Mars.at(t).velocity.au_per_d\n",
    "Mars_x, Mars_y, Mars_z = equa_to_ecl(Mars_x, Mars_y, Mars_z)\n",
    "Mars_vx, Mars_vy, Mars_vz = equa_to_ecl(Mars_vx, Mars_vy, Mars_vz)\n",
    "Mars_mass = 3.2271514450538743E-07\n",
    "\n",
    "Jupiter_x, Jupiter_y, Jupiter_z = Jupiter.at(t).position.au\n",
    "Jupiter_vx, Jupiter_vy, Jupiter_vz = Jupiter.at(t).velocity.au_per_d\n",
    "Jupiter_x, Jupiter_y, Jupiter_z = equa_to_ecl(Jupiter_x, Jupiter_y, Jupiter_z)\n",
    "Jupiter_vx, Jupiter_vy, Jupiter_vz = equa_to_ecl(Jupiter_vx, Jupiter_vy, Jupiter_vz)\n",
    "Jupiter_mass = 9.547919384243222E-04\n",
    "\n",
    "Saturn_x, Saturn_y, Saturn_z = Saturn.at(t).position.au\n",
    "Saturn_vx, Saturn_vy, Saturn_vz = Saturn.at(t).velocity.au_per_d\n",
    "Saturn_x, Saturn_y, Saturn_z = equa_to_ecl(Saturn_x, Saturn_y, Saturn_z)\n",
    "Saturn_vx, Saturn_vy, Saturn_vz = equa_to_ecl(Saturn_vx, Saturn_vy, Saturn_vz)\n",
    "Saturn_mass = 2.858859806661029E-04\n",
    "\n",
    "Uranus_x, Uranus_y, Uranus_z = Uranus.at(t).position.au\n",
    "Uranus_vx, Uranus_vy, Uranus_vz = Uranus.at(t).velocity.au_per_d\n",
    "Uranus_x, Uranus_y, Uranus_z = equa_to_ecl(Uranus_x, Uranus_y, Uranus_z)\n",
    "Uranus_vx, Uranus_vy, Uranus_vz = equa_to_ecl(Uranus_vx, Uranus_vy, Uranus_vz)\n",
    "Uranus_mass = 4.3662440433515637E-05\n",
    "\n",
    "Neptune_x, Neptune_y, Neptune_z = Neptune.at(t).position.au\n",
    "Neptune_vx, Neptune_vy, Neptune_vz = Neptune.at(t).velocity.au_per_d\n",
    "Neptune_x, Neptune_y, Neptune_z = equa_to_ecl(Neptune_x, Neptune_y, Neptune_z)\n",
    "Neptune_vx, Neptune_vy, Neptune_vz = equa_to_ecl(Neptune_vx, Neptune_vy, Neptune_vz)\n",
    "Neptune_mass = 5.151389020535497E-05"
   ]
  },
  {
   "cell_type": "code",
   "execution_count": 10,
   "metadata": {},
   "outputs": [
    {
     "name": "stdout",
     "output_type": "stream",
     "text": [
      "-1.318704941145723 -5.140506020408314 0.05081748050627244 0.007218374515862765 -0.001515131294072563 -0.00015518531257547653 2458600.5\n"
     ]
    }
   ],
   "source": [
    "print(Jupiter_x, Jupiter_y, Jupiter_z, Jupiter_vx, Jupiter_vy, Jupiter_vz, epoch0)"
   ]
  },
  {
   "cell_type": "code",
   "execution_count": 11,
   "metadata": {},
   "outputs": [],
   "source": [
    "#Add them into simulation\n",
    "sim.add(m=Sun_mass, x=Sun_x, y=Sun_y, z=Sun_z, vx=Sun_vx, vy=Sun_vy, vz=Sun_vz)\n",
    "sim.add(m=Mercury_mass, x=Mercury_x, y=Mercury_y, z=Mercury_z, vx=Mercury_vx, vy=Mercury_vy, vz=Mercury_vz)\n",
    "sim.add(m=Venus_mass, x=Venus_x, y=Venus_y, z=Venus_z, vx=Venus_vx, vy=Venus_vy, vz=Venus_vz)\n",
    "sim.add(m=Earth_mass, x=Earth_x, y=Earth_y, z=Earth_z, vx=Earth_vx, vy=Earth_vy, vz=Earth_vz)\n",
    "sim.add(m=Mars_mass, x=Mars_x, y=Mars_y, z=Mars_z, vx=Mars_vx, vy=Mars_vy, vz=Mars_vz)\n",
    "sim.add(m=Jupiter_mass, x=Jupiter_x, y=Jupiter_y, z=Jupiter_z, vx=Jupiter_vx, vy=Jupiter_vy, vz=Jupiter_vz)\n",
    "sim.add(m=Saturn_mass, x=Saturn_x, y=Saturn_y, z=Saturn_z, vx=Saturn_vx, vy=Saturn_vy, vz=Saturn_vz)\n",
    "sim.add(m=Uranus_mass, x=Uranus_x, y=Uranus_y, z=Uranus_z, vx=Uranus_vx, vy=Uranus_vy, vz=Uranus_vz)\n",
    "sim.add(m=Neptune_mass, x=Neptune_x, y=Neptune_y, z=Neptune_z, vx=Neptune_vx, vy=Neptune_vy, vz=Neptune_vz)"
   ]
  },
  {
   "cell_type": "code",
   "execution_count": 12,
   "metadata": {},
   "outputs": [],
   "source": [
    "#Add minor palnets into sumulation\n",
    "for i in range(len(p.X)):\n",
    "    X, Y, Z = p.X[i],p.Y[i], p.Z[i]\n",
    "    VX, VY, VZ = p.VX[i],p.VY[i], p.VZ[i]\n",
    "    sim.add(m=0, x=X, y=Y, z=Z, vx=VX, vy=VY, vz=VZ)"
   ]
  },
  {
   "cell_type": "code",
   "execution_count": 13,
   "metadata": {},
   "outputs": [
    {
     "name": "stdout",
     "output_type": "stream",
     "text": [
      "---------------------------------\n",
      "REBOUND version:     \t3.8.0\n",
      "REBOUND built on:    \tFeb 14 2019 15:06:19\n",
      "Number of particles: \t12\n",
      "Selected integrator: \tias15\n",
      "Simulation time:     \t0.0000000000000000e+00\n",
      "Current timestep:    \t0.001000\n",
      "---------------------------------\n",
      "<rebound.Particle object, m=1.0 x=-0.0016997040831733946 y=0.00759194233210298 z=-3.294690197460119e-05 vx=-8.34717574338143e-06 vy=7.503819205235864e-07 vz=2.1640504663662763e-07>\n",
      "<rebound.Particle object, m=1.6601367952719304e-07 x=0.24902762885043495 y=-0.3367327493595523 z=-0.05116993286981296 vx=0.017127924747628417 vy=0.01792987749204126 vz=-0.00010675871665842551>\n",
      "<rebound.Particle object, m=2.4478383396645447e-06 x=0.5980231227084849 y=-0.40322777399075765 z=-0.040278440239865654 vx=0.01129842195011229 vy=0.01660693268668221 vz=-0.00042441132892824616>\n",
      "<rebound.Particle object, m=3.0404326462685257e-06 x=-0.8137654119461053 y=-0.5867872157996611 z=-3.657956711200505e-06 vx=0.009872927932495936 vy=-0.01394701717292655 vz=8.23262937672993e-07>\n",
      "<rebound.Particle object, m=3.2271514450538743e-07 x=-0.32836463971500385 y=1.5706237072662412 z=0.040733314809336174 vx=-0.013177346976886405 vy=-0.001672780048278871 vz=0.0002882733326700218>\n",
      "<rebound.Particle object, m=0.0009547919384243222 x=-1.318704941145723 y=-5.140506020408314 z=0.05081748050627244 vx=0.007218374515862765 vy=-0.001515131294072563 vz=-0.00015518531257547653>\n",
      "<rebound.Particle object, m=0.0002858859806661029 x=2.553651348042312 y=-9.716382227796593 z=0.06729096036160165 vx=0.005087783051056992 vy=0.0014007485337888777 vz=-0.00022689502120467171>\n",
      "<rebound.Particle object, m=4.3662440433515637e-05 x=16.77221531572693 y=10.617430440839883 z=-0.1778576462134671 vx=-0.0021325861443490944 vy=0.003139887133945782 vz=3.9289474620122795e-05>\n",
      "<rebound.Particle object, m=5.151389020535497e-05 x=29.068082015249797 y=-7.125923414431385 z=-0.5231590835470596 vx=0.000726563206117793 vy=0.0030675145840221405 vz=-7.991381647074088e-05>\n",
      "<rebound.Particle object, m=0.0 x=-1.3582665326130987 y=-2.365068671224595 z=0.17534346896127556 vx=0.008456716716145788 vy=-0.0058755682571698265 vz=-0.0017455417333775574>\n",
      "<rebound.Particle object, m=0.0 x=2.381534754379253 y=0.017989805585352903 z=-0.29032291302391083 vx=0.0008574956568592174 vy=0.010966848076620121 vz=-0.0004331365713276615>\n",
      "<rebound.Particle object, m=0.0 x=0.4160161571939251 y=1.3415300261716596 z=0.12481611428657632 vx=-0.00917263041129699 vy=-0.009661780852386413 vz=-0.0034080086165686357>\n",
      "---------------------------------\n"
     ]
    }
   ],
   "source": [
    "#Check the simulation status before intergation start\n",
    "sim.status()"
   ]
  },
  {
   "cell_type": "code",
   "execution_count": 14,
   "metadata": {},
   "outputs": [],
   "source": [
    "#Let's start the intergation, here we intergate to 3000 days before the current epoch\n",
    "sim.integrate(-314.83241795981303, exact_finish_time=1) "
   ]
  },
  {
   "cell_type": "code",
   "execution_count": 15,
   "metadata": {},
   "outputs": [
    {
     "name": "stdout",
     "output_type": "stream",
     "text": [
      "---------------------------------\n",
      "REBOUND version:     \t3.8.0\n",
      "REBOUND built on:    \tFeb 14 2019 15:06:19\n",
      "Number of particles: \t12\n",
      "Selected integrator: \tias15\n",
      "Simulation time:     \t-3.1483241795981303e+02\n",
      "Current timestep:    \t-0.874468\n",
      "---------------------------------\n",
      "<rebound.Particle object, m=1.0 x=0.0007348888528255731 y=0.0068666352353769534 z=-9.45642351551511e-05 vx=-7.025443198889501e-06 vy=3.8080976312146843e-06 vz=1.714340541791703e-07>\n",
      "<rebound.Particle object, m=1.6601367952719304e-07 x=-0.23719621938915197 y=0.23853197093227188 z=0.04066323174224195 vx=-0.02534580027484554 vy=-0.01901709232375867 vz=0.0007704712386792777>\n",
      "<rebound.Particle object, m=2.4478383396645447e-06 x=-0.71782604886031 y=-0.01866806611475534 z=0.041020866167333934 vx=0.0005902388518277603 vy=-0.020299148182228912 vz=-0.0003128017272805829>\n",
      "<rebound.Particle object, m=3.0404326462685257e-06 x=-0.09250912125517949 y=-1.0046720402799718 z=-5.091369413664102e-05 vx=0.01684504359664355 vy=-0.00164009783734175 vz=1.7762568791284262e-07>\n",
      "<rebound.Particle object, m=3.2271514450538743e-07 x=0.22868315534198036 y=-1.4118619314398901 z=-0.03541480667286671 vx=0.014336949597383747 vy=0.003425424063503423 vz=-0.0002801297062278723>\n",
      "<rebound.Particle object, m=0.0009547919384243222 x=-3.3952675762051805 y=-4.192145301731642 z=0.09333277467401131 vx=0.005774540797561014 vy=-0.0043900205710434735 vz=-0.00011094784854010056>\n",
      "<rebound.Particle object, m=0.0002858859806661029 x=0.9225965010222418 y=-10.015245331829776 z=0.1374132418003652 vx=0.005248527253865864 vy=0.0004938399019162164 vz=-0.00021749667758929326>\n",
      "<rebound.Particle object, m=4.3662440433515637e-05 x=17.411792851568098 y=9.60963098397253 z=-0.18988650264654375 vx=-0.0019293066941933254 vy=0.0032601380116569463 vz=3.710310797866273e-05>\n",
      "<rebound.Particle object, m=5.151389020535497e-05 x=28.823471908855915 y=-8.087600564845733 z=-0.49771792731261916 vx=0.0008271894924168167 vy=0.003041067479476931 vz=-8.168835352511392e-05>\n",
      "<rebound.Particle object, m=0.0 x=-2.4382342539533766 y=0.6356068007909031 z=0.4693454294357756 vx=-0.002913666794201817 vy=-0.010746336153713678 vz=0.00019762571401747518>\n",
      "<rebound.Particle object, m=0.0 x=-0.10989684760997659 y=-2.144711527856787 z=0.07772120409533244 vx=0.012090567391501418 vy=-0.0008854211946614193 vz=-0.001445109401879547>\n",
      "<rebound.Particle object, m=0.0 x=1.5558520817938781 y=1.2190620770281018 z=0.5928103584950868 vx=0.002236960913078 vy=0.007017808963352919 vz=0.0006762642442491637>\n",
      "---------------------------------\n"
     ]
    }
   ],
   "source": [
    "#Check the status after intergation\n",
    "sim.status()"
   ]
  },
  {
   "cell_type": "code",
   "execution_count": 16,
   "metadata": {},
   "outputs": [],
   "source": [
    "#now the postions of Planets and minor planets are changed to 3000 days before\n",
    "#take the postions of our asteroids\n",
    "ceres= sim.particles[-3]\n",
    "Vesta = sim.particles[-2]\n",
    "Phaethon = sim.particles[-1]"
   ]
  },
  {
   "cell_type": "code",
   "execution_count": 17,
   "metadata": {},
   "outputs": [],
   "source": [
    "#to calculate the current orbital elements we define a function to transfer state vector to keplerian orbit\n",
    "def xyz_to_kep(X, Y, Z, VX, VY, VZ, u):\n",
    "    # compute the barycentric distance r\n",
    "    r = (X**2 + Y**2 + Z**2)**0.5\n",
    "    rrdot = (X*VX + Y*VY + Z*VZ)\n",
    "    # compute the specific angular momentum h\n",
    "    hx = Y * VZ - Z * VY\n",
    "    hy = Z * VX - X * VZ\n",
    "    hz = X * VY - Y * VX\n",
    "    h = (hx**2 + hy**2 + hz**2)**0.5\n",
    "    # compute eccentricity vector\n",
    "    ex = (VY * hz - VZ * hy)/u - X/r\n",
    "    ey = (VZ * hx - VX * hz)/u - Y/r\n",
    "    ez = (VX * hy - VY * hx)/u - Z/r\n",
    "    e = (ex**2+ey**2+ez**2)**0.5\n",
    "    # compute vector n\n",
    "    nx = -hy\n",
    "    ny = hx\n",
    "    nz = 0\n",
    "    n = (nx**2 + ny**2)**0.5\n",
    "    # compute true anomaly v, the angle between e and r\n",
    "    v = np.arccos((ex * X + ey * Y + ez * Z) / (e*r))\n",
    "    v[rrdot<0] = 2*np.pi - v[rrdot<0]\n",
    "    # compute inclination\n",
    "    i = np.arccos(hz/h)\n",
    "    # compute eccentric anomaly E\n",
    "    E = 2*np.arctan2((1-e)**0.5*np.sin(v/2.), (1+e)**0.5*np.cos(v/2.))\n",
    "    # compute ascending node\n",
    "    node = np.arccos(nx/n)\n",
    "    node[ny<0] = 2*np.pi - node[ny<0]\n",
    "    # compute argument of periapsis, the angle between e and n\n",
    "    arg = np.arccos((nx * ex + ny * ey + nz *ez) / (n*e))\n",
    "    arg[ez<0] = 2*np.pi - arg[ez<0]\n",
    "    # compute mean anomaly\n",
    "    M = E - e * np.sin(E)\n",
    "    M[M<0] += 2*np.pi\n",
    "    # compute a\n",
    "    a = 1/(2/r - (VX**2+VY**2+VZ**2)/u)\n",
    "    return a, e, i, arg, node, M   "
   ]
  },
  {
   "cell_type": "code",
   "execution_count": 30,
   "metadata": {},
   "outputs": [],
   "source": [
    "u_bary = 2.9630927492415936E-04 # standard gravitational parameter, GM. M is the mass of sun + all planets \n",
    "x, y, z = np.array([ceres.x]), np.array([ceres.y]), np.array([ceres.z])\n",
    "vx, vy, vz = np.array([ceres.vx]), np.array([ceres.vy]), np.array([ceres.vz])\n",
    "a, e, i, arg, node, M = xyz_to_kep(x, y, z, vx, vy, vz, u_bary)"
   ]
  },
  {
   "cell_type": "code",
   "execution_count": 31,
   "metadata": {},
   "outputs": [
    {
     "name": "stdout",
     "output_type": "stream",
     "text": [
      "[150.66122432] [21.92786538] 2455600.5\n"
     ]
    }
   ],
   "source": [
    "#now calcuate the observer quantities ra and dec.\n",
    "#Note that TT = TAI + 32.184 = UTC + (number of leap seconds) + 32.184\n",
    "p = propagate(a, e, i, arg, node, M, epoch0-314.83241795981303, epoch0-314.83241795981303+(35+32.184)/86400, helio = False)\n",
    "print(p.ra*180/np.pi, p.dec*180/np.pi, epoch0-3000)"
   ]
  },
  {
   "cell_type": "code",
   "execution_count": 32,
   "metadata": {},
   "outputs": [],
   "source": [
    "#Do it again for Vesta\n",
    "x, y, z = np.array([Vesta.x]), np.array([Vesta.y]), np.array([Vesta.z])\n",
    "vx, vy, vz = np.array([Vesta.vx]), np.array([Vesta.vy]), np.array([Vesta.vz])\n",
    "a, e, i, arg, node, M = xyz_to_kep(x, y, z, vx, vy, vz, u_bary)"
   ]
  },
  {
   "cell_type": "code",
   "execution_count": 33,
   "metadata": {},
   "outputs": [
    {
     "name": "stdout",
     "output_type": "stream",
     "text": [
      "[269.07033829] [-19.53338688] 2455600.5\n"
     ]
    }
   ],
   "source": [
    "#now calcuate the observer quantities ra and dec\n",
    "p = propagate(a, e, i, arg, node, M, epoch0-314.83241795981303, epoch0-314.83241795981303+(35+32.184)/86400, helio = False)\n",
    "print(p.ra*180/np.pi, p.dec*180/np.pi, epoch0-3000)"
   ]
  },
  {
   "cell_type": "code",
   "execution_count": 34,
   "metadata": {},
   "outputs": [],
   "source": [
    "#Do it again for Phaethon\n",
    "x, y, z = np.array([Phaethon.x]), np.array([Phaethon.y]), np.array([Phaethon.z])\n",
    "vx, vy, vz = np.array([Phaethon.vx]), np.array([Phaethon.vy]), np.array([Phaethon.vz])\n",
    "a, e, i, arg, node, M = xyz_to_kep(x, y, z, vx, vy, vz, u_bary)"
   ]
  },
  {
   "cell_type": "code",
   "execution_count": 35,
   "metadata": {},
   "outputs": [
    {
     "name": "stdout",
     "output_type": "stream",
     "text": [
      "[47.58804161] [30.30635302] 2455600.5\n"
     ]
    }
   ],
   "source": [
    "p = propagate(a, e, i, arg, node, M, epoch0-314.83241795981303, epoch0-314.83241795981303+(35+32.184)/86400, helio = False)\n",
    "print(p.ra*180/np.pi, p.dec*180/np.pi, epoch0-3000)"
   ]
  },
  {
   "cell_type": "code",
   "execution_count": null,
   "metadata": {},
   "outputs": [],
   "source": []
  },
  {
   "cell_type": "code",
   "execution_count": null,
   "metadata": {},
   "outputs": [],
   "source": []
  }
 ],
 "metadata": {
  "kernelspec": {
   "display_name": "Python 3",
   "language": "python",
   "name": "python3"
  },
  "language_info": {
   "codemirror_mode": {
    "name": "ipython",
    "version": 3
   },
   "file_extension": ".py",
   "mimetype": "text/x-python",
   "name": "python",
   "nbconvert_exporter": "python",
   "pygments_lexer": "ipython3",
   "version": "3.6.6"
  }
 },
 "nbformat": 4,
 "nbformat_minor": 2
}
